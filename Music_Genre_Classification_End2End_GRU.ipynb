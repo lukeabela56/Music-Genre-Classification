{
  "nbformat": 4,
  "nbformat_minor": 0,
  "metadata": {
    "colab": {
      "name": "Music_Genre_Classification_End2End_GRU.ipynb",
      "provenance": []
    },
    "kernelspec": {
      "name": "python3",
      "display_name": "Python 3"
    },
    "language_info": {
      "name": "python"
    }
  },
  "cells": [
    {
      "cell_type": "code",
      "metadata": {
        "colab": {
          "base_uri": "https://localhost:8080/"
        },
        "id": "LJ6QbTn_AOSy",
        "outputId": "0aa52b61-8641-4b2a-a499-bc45d3723098"
      },
      "source": [
        "from google.colab import drive\n",
        "drive.mount('content')"
      ],
      "execution_count": 2,
      "outputs": [
        {
          "output_type": "stream",
          "text": [
            "Mounted at content\n"
          ],
          "name": "stdout"
        }
      ]
    },
    {
      "cell_type": "code",
      "metadata": {
        "colab": {
          "base_uri": "https://localhost:8080/"
        },
        "id": "zQu7y3YhAdbj",
        "outputId": "cc680de0-c412-42c2-8cd8-1124d1127c90"
      },
      "source": [
        "import numpy as np\n",
        "import librosa, librosa.display\n",
        "import glob\n",
        "from tqdm import tqdm\n",
        "import matplotlib.pyplot as plt\n",
        "import os\n",
        "import keras\n",
        "from sklearn.model_selection import train_test_split\n",
        "import tensorflow\n",
        "from keras.utils import to_categorical\n",
        "from keras.preprocessing.image import ImageDataGenerator\n",
        "!pip install plot_keras_history"
      ],
      "execution_count": 3,
      "outputs": [
        {
          "output_type": "stream",
          "text": [
            "Collecting plot_keras_history\n",
            "  Downloading https://files.pythonhosted.org/packages/ac/81/fb8f78385db08e5e8c28d0a6c6ada9bbb6fde5f7bb4050751f31156f6304/plot_keras_history-1.1.28.tar.gz\n",
            "Requirement already satisfied: matplotlib in /usr/local/lib/python3.7/dist-packages (from plot_keras_history) (3.2.2)\n",
            "Requirement already satisfied: pandas in /usr/local/lib/python3.7/dist-packages (from plot_keras_history) (1.1.5)\n",
            "Requirement already satisfied: scipy in /usr/local/lib/python3.7/dist-packages (from plot_keras_history) (1.4.1)\n",
            "Collecting sanitize_ml_labels\n",
            "  Downloading https://files.pythonhosted.org/packages/57/2c/c97c52a183b3da277a6ca276a9587ea011c5f7bcce0b192d1eaf7eb5084d/sanitize_ml_labels-1.0.26.tar.gz\n",
            "Requirement already satisfied: numpy>=1.11 in /usr/local/lib/python3.7/dist-packages (from matplotlib->plot_keras_history) (1.19.5)\n",
            "Requirement already satisfied: python-dateutil>=2.1 in /usr/local/lib/python3.7/dist-packages (from matplotlib->plot_keras_history) (2.8.1)\n",
            "Requirement already satisfied: cycler>=0.10 in /usr/local/lib/python3.7/dist-packages (from matplotlib->plot_keras_history) (0.10.0)\n",
            "Requirement already satisfied: pyparsing!=2.0.4,!=2.1.2,!=2.1.6,>=2.0.1 in /usr/local/lib/python3.7/dist-packages (from matplotlib->plot_keras_history) (2.4.7)\n",
            "Requirement already satisfied: kiwisolver>=1.0.1 in /usr/local/lib/python3.7/dist-packages (from matplotlib->plot_keras_history) (1.3.1)\n",
            "Requirement already satisfied: pytz>=2017.2 in /usr/local/lib/python3.7/dist-packages (from pandas->plot_keras_history) (2018.9)\n",
            "Collecting compress_json\n",
            "  Downloading https://files.pythonhosted.org/packages/c0/9d/1a79dbc3b9d69c57be363b4cc8bd6f278f919a0973f46c7bb831438c9333/compress_json-1.0.4.tar.gz\n",
            "Requirement already satisfied: six>=1.5 in /usr/local/lib/python3.7/dist-packages (from python-dateutil>=2.1->matplotlib->plot_keras_history) (1.15.0)\n",
            "Building wheels for collected packages: plot-keras-history, sanitize-ml-labels, compress-json\n",
            "  Building wheel for plot-keras-history (setup.py) ... \u001b[?25l\u001b[?25hdone\n",
            "  Created wheel for plot-keras-history: filename=plot_keras_history-1.1.28-cp37-none-any.whl size=8528 sha256=b47fd7f444113bbeab3326cd473b84d16bb0bf2bb8569e2c844ba7b3503845ca\n",
            "  Stored in directory: /root/.cache/pip/wheels/c3/2e/92/87e6d66cf837c54f151466bd1da6fe081e727f78f5ab05518f\n",
            "  Building wheel for sanitize-ml-labels (setup.py) ... \u001b[?25l\u001b[?25hdone\n",
            "  Created wheel for sanitize-ml-labels: filename=sanitize_ml_labels-1.0.26-cp37-none-any.whl size=7610 sha256=a8594beb38e1703f181d98c96705cff7c1a7359583b4deac0a8ef7d4003a5442\n",
            "  Stored in directory: /root/.cache/pip/wheels/2a/62/31/d348320becc60729f508a2c5aad445b94d7543c5cb577cfb9d\n",
            "  Building wheel for compress-json (setup.py) ... \u001b[?25l\u001b[?25hdone\n",
            "  Created wheel for compress-json: filename=compress_json-1.0.4-cp37-none-any.whl size=4586 sha256=b7d37fc612828f065b95e09b93a89c9a7cbeeed823187931b583512f1a94d303\n",
            "  Stored in directory: /root/.cache/pip/wheels/83/ec/21/51460dd508e4a152c0643946c21fae84eb3391171164d35745\n",
            "Successfully built plot-keras-history sanitize-ml-labels compress-json\n",
            "Installing collected packages: compress-json, sanitize-ml-labels, plot-keras-history\n",
            "Successfully installed compress-json-1.0.4 plot-keras-history-1.1.28 sanitize-ml-labels-1.0.26\n"
          ],
          "name": "stdout"
        }
      ]
    },
    {
      "cell_type": "code",
      "metadata": {
        "id": "X_MRA-EJAf3p"
      },
      "source": [
        "path = 'content/MyDrive/genres_original/'\n",
        "genre = ['blues', 'classical', 'country', 'disco', 'hiphop', 'jazz', 'metal', 'pop', 'reggae', 'rock']\n",
        "\n",
        "data = []\n",
        "labels = []\n",
        "for i in range(len(genre)):\n",
        "  path_full = path+genre[i]+'/*.wav'\n",
        "  for name in glob.glob(path_full):\n",
        "    data.append([genre[i], name])\n",
        "    labels.append(genre[i])\n",
        "\n",
        "import random\n",
        "random.shuffle(data)\n",
        "for i in range(len(data)):\n",
        "  labels.append(data[i][0])"
      ],
      "execution_count": 4,
      "outputs": []
    },
    {
      "cell_type": "code",
      "metadata": {
        "id": "xeqB72spAp-o"
      },
      "source": [
        "def split_data(timeseriesdata, sections):\n",
        "  \n",
        "  N = len(timeseriesdata)\n",
        "  sections = sections//1\n",
        "  len_of_section = N//sections\n",
        "  \n",
        "  list_of_series = []\n",
        "  for i in range(0,sections,1):\n",
        "    time_subsection = timeseriesdata[i*len_of_section:(i+1)*len_of_section]\n",
        "    list_of_series.append(time_subsection)\n",
        "  \n",
        "  list_of_series = np.array(list_of_series)\n",
        "  return list_of_series"
      ],
      "execution_count": 5,
      "outputs": []
    },
    {
      "cell_type": "code",
      "metadata": {
        "colab": {
          "base_uri": "https://localhost:8080/"
        },
        "id": "oTWb04xPAr5m",
        "outputId": "e758ba40-83db-41e1-9843-f15fb00ffa46"
      },
      "source": [
        "speclabellist = []\n",
        "N = len(data)\n",
        "\n",
        "for i in tqdm(range(N)):\n",
        "  filepath = data[i][1]\n",
        "  label = data[i][0]\n",
        "  y, sr = librosa.load(filepath, sr = 22050)\n",
        "  list_of_y = split_data(y, 10)\n",
        "  for i in range(len(list_of_y)):\n",
        "    signal = list_of_y[i][:66000-1]\n",
        "    speclabellist.append([signal, label])"
      ],
      "execution_count": 6,
      "outputs": [
        {
          "output_type": "stream",
          "text": [
            "100%|██████████| 999/999 [06:16<00:00,  2.65it/s]\n"
          ],
          "name": "stderr"
        }
      ]
    },
    {
      "cell_type": "code",
      "metadata": {
        "colab": {
          "base_uri": "https://localhost:8080/"
        },
        "id": "hWfeYN5OBLE5",
        "outputId": "5a52bd01-fe78-48db-f77a-3d3eb8f09d2e"
      },
      "source": [
        "\n",
        "audio_data = []\n",
        "extended_labels = []\n",
        "random.shuffle(speclabellist)\n",
        "\n",
        "for i in range(len(speclabellist)):\n",
        "  audio_data.append(speclabellist[i][0])\n",
        "  extended_labels.append(speclabellist[i][1])\n",
        "\n",
        "audio_data =np.array(audio_data) \n",
        "print(audio_data.shape)\n",
        "assert len(extended_labels) == len(audio_data)"
      ],
      "execution_count": 7,
      "outputs": [
        {
          "output_type": "stream",
          "text": [
            "(9990, 65999)\n"
          ],
          "name": "stdout"
        }
      ]
    },
    {
      "cell_type": "code",
      "metadata": {
        "id": "AY5i3DhqElAw"
      },
      "source": [
        "from numpy import load\n",
        "from csv import reader\n",
        "import collections\n",
        "\n",
        "audio_data_np = audio_data\n",
        "mylabels = extended_labels"
      ],
      "execution_count": 8,
      "outputs": []
    },
    {
      "cell_type": "code",
      "metadata": {
        "colab": {
          "base_uri": "https://localhost:8080/"
        },
        "id": "jiHR_dJwE2VO",
        "outputId": "540d80b4-d4cb-45a8-89c7-608a5d28f0ff"
      },
      "source": [
        "from sklearn import preprocessing\n",
        "from sklearn.preprocessing import StandardScaler\n",
        "\n",
        "audio_data_np = np.array(audio_data_np)\n",
        "\n",
        "print('Data Instance: ', audio_data_np[0])\n",
        "print('Data Shape: ', audio_data_np.shape)\n",
        "\n",
        "scaler = StandardScaler()\n",
        "audio_data_np = scaler.fit_transform(audio_data_np)\n",
        "\n",
        "X_train, X_test, y_train, y_test = train_test_split(audio_data_np, mylabels, test_size=0.2)\n",
        "X_val, X_test, y_val, y_test = train_test_split(X_test, y_test, test_size=0.5)\n",
        "\n",
        "print('X Training Data Length: ', len(X_train), X_train[0])\n",
        "print('X Testing Data Length: ', len(X_test), X_test[0])\n",
        "print('Y Training Data Length: ', len(y_train), y_train[0])\n",
        "print('Y Testing Data Length: ', len(y_test), y_test[0])\n",
        "\n",
        "encoder = preprocessing.LabelEncoder()\n",
        "encoder.fit(mylabels)\n",
        "\n",
        "labels_n = encoder.transform(y_train)\n",
        "labels_matrix =keras.utils.to_categorical(labels_n, dtype='float32')\n",
        "\n",
        "labels_n_test = encoder.transform(y_test)\n",
        "labels_matrix_test =keras.utils.to_categorical(labels_n_test, dtype='float32')\n",
        "\n",
        "labels_n_val = encoder.transform(y_val)\n",
        "labels_matrix_val =keras.utils.to_categorical(labels_n_val, dtype='float32')\n"
      ],
      "execution_count": 9,
      "outputs": [
        {
          "output_type": "stream",
          "text": [
            "Data Instance:  [0.19439697 0.16574097 0.10437012 ... 0.08618164 0.11901855 0.09313965]\n",
            "Data Shape:  (9990, 65999)\n",
            "X Training Data Length:  7992 [-0.36993897 -0.29103896 -0.18490404 ... -0.15334108 -0.12655006\n",
            "  0.07234187]\n",
            "X Testing Data Length:  999 [ 1.2853376   0.17886128 -1.0896709  ... -0.56653273 -0.467946\n",
            " -0.3668005 ]\n",
            "Y Training Data Length:  7992 metal\n",
            "Y Testing Data Length:  999 metal\n"
          ],
          "name": "stdout"
        }
      ]
    },
    {
      "cell_type": "code",
      "metadata": {
        "colab": {
          "base_uri": "https://localhost:8080/"
        },
        "id": "5bWOKutXGjtG",
        "outputId": "c316204f-0cac-45d3-82eb-37b5810f9441"
      },
      "source": [
        "class_instances=collections.Counter(labels_n)\n",
        "print(class_instances)"
      ],
      "execution_count": 10,
      "outputs": [
        {
          "output_type": "stream",
          "text": [
            "Counter({8: 826, 9: 815, 0: 805, 5: 803, 7: 802, 4: 801, 6: 800, 2: 783, 3: 779, 1: 778})\n"
          ],
          "name": "stdout"
        }
      ]
    },
    {
      "cell_type": "code",
      "metadata": {
        "colab": {
          "base_uri": "https://localhost:8080/"
        },
        "id": "uqCeXwYoGsAB",
        "outputId": "5dfc0eeb-08f8-497b-f2f5-4a8134a07fe2"
      },
      "source": [
        "features_convolution = np.reshape(X_train,(len(y_train),2129, -1))\n",
        "print(features_convolution.shape[1:])\n",
        "features_convolution_test = np.reshape(X_test,(len(y_test),2129, -1))\n",
        "print(features_convolution_test.shape[1:])\n",
        "features_convolution_val = np.reshape(X_val,(len(y_val),2129, -1))\n",
        "print(features_convolution_val.shape[1:])"
      ],
      "execution_count": 11,
      "outputs": [
        {
          "output_type": "stream",
          "text": [
            "(2129, 31)\n",
            "(2129, 31)\n",
            "(2129, 31)\n"
          ],
          "name": "stdout"
        }
      ]
    },
    {
      "cell_type": "code",
      "metadata": {
        "id": "I40ckr-QIoAJ"
      },
      "source": [
        "from keras.layers import Layer\n",
        "import keras.backend as K\n",
        "\n",
        "class attention(Layer):\n",
        "    def __init__(self,**kwargs):\n",
        "        super(attention,self).__init__(**kwargs)\n",
        "\n",
        "    def build(self,input_shape):\n",
        "        self.W=self.add_weight(name=\"att_weight\",shape=(input_shape[-1],1),initializer=\"normal\")\n",
        "        self.b=self.add_weight(name=\"att_bias\",shape=(input_shape[1],1),initializer=\"zeros\")        \n",
        "        super(attention, self).build(input_shape)\n",
        "\n",
        "    def call(self,x):\n",
        "        et=K.squeeze(K.tanh(K.dot(x,self.W)+self.b),axis=-1)\n",
        "        at=K.softmax(et)\n",
        "        at=K.expand_dims(at,axis=-1)\n",
        "        output=x*at\n",
        "        return K.sum(output,axis=1)\n",
        "\n",
        "    def compute_output_shape(self,input_shape):\n",
        "        return (input_shape[0],input_shape[-1])\n",
        "\n",
        "    def get_config(self):\n",
        "        return super(attention,self).get_config()"
      ],
      "execution_count": 12,
      "outputs": []
    },
    {
      "cell_type": "code",
      "metadata": {
        "id": "rWPMSBXrHN1L"
      },
      "source": [
        "import tensorflow as tf\n",
        "\n",
        "from keras.layers import Dense, Dropout, Activation, Flatten, Input, SpatialDropout2D\n",
        "from keras.layers import Conv1D, MaxPooling1D, BatchNormalization, Activation, Bidirectional, LSTM, GRU, TimeDistributed, AveragePooling1D, ReLU\n",
        "from keras.models import Model\n",
        "from keras import optimizers\n",
        "\n",
        "inputs = Input(shape = features_convolution.shape[1:])\n",
        "LSTM_units = 128\n",
        "\n",
        "x = Conv1D(filters = 16, kernel_size = 6)(inputs)\n",
        "x = ReLU()(x)\n",
        "x = BatchNormalization()(x)\n",
        "x = MaxPooling1D(pool_size = 8, strides = 1)(x)\n",
        "x = Conv1D(filters = 32, kernel_size = 4)(x)\n",
        "x = ReLU()(x)\n",
        "x = BatchNormalization()(x)\n",
        "x = MaxPooling1D(pool_size = 6, strides = 1)(x)\n",
        "x = Conv1D(filters = 64, kernel_size = 4)(x)\n",
        "x = ReLU()(x)\n",
        "x = BatchNormalization()(x)\n",
        "x = MaxPooling1D(pool_size = 6, strides = 1)(x)\n",
        "x = AveragePooling1D(pool_size = 4)(x)\n",
        "x = Bidirectional(GRU(LSTM_units, return_sequences = True))(x)\n",
        "x = attention()(x)\n",
        "x = Dense(64)(x)\n",
        "outputs= Dense(10, activation='softmax')(x)\n",
        "\n",
        "model = Model(inputs=inputs, outputs=outputs)\n",
        "sgd = optimizers.SGD(lr=0.0001, decay=1e-6, momentum=0.8, nesterov=True)\n",
        "model.compile(loss='categorical_crossentropy',\n",
        "              optimizer='adam',\n",
        "              metrics=['accuracy'])"
      ],
      "execution_count": 13,
      "outputs": []
    },
    {
      "cell_type": "code",
      "metadata": {
        "colab": {
          "base_uri": "https://localhost:8080/"
        },
        "id": "e5_zb_XEI2yZ",
        "outputId": "918cd708-a770-4170-b5dc-85f51fe2d6ae"
      },
      "source": [
        "model.summary()"
      ],
      "execution_count": 14,
      "outputs": [
        {
          "output_type": "stream",
          "text": [
            "Model: \"model\"\n",
            "_________________________________________________________________\n",
            "Layer (type)                 Output Shape              Param #   \n",
            "=================================================================\n",
            "input_1 (InputLayer)         [(None, 2129, 31)]        0         \n",
            "_________________________________________________________________\n",
            "conv1d (Conv1D)              (None, 2124, 16)          2992      \n",
            "_________________________________________________________________\n",
            "re_lu (ReLU)                 (None, 2124, 16)          0         \n",
            "_________________________________________________________________\n",
            "batch_normalization (BatchNo (None, 2124, 16)          64        \n",
            "_________________________________________________________________\n",
            "max_pooling1d (MaxPooling1D) (None, 2117, 16)          0         \n",
            "_________________________________________________________________\n",
            "conv1d_1 (Conv1D)            (None, 2114, 32)          2080      \n",
            "_________________________________________________________________\n",
            "re_lu_1 (ReLU)               (None, 2114, 32)          0         \n",
            "_________________________________________________________________\n",
            "batch_normalization_1 (Batch (None, 2114, 32)          128       \n",
            "_________________________________________________________________\n",
            "max_pooling1d_1 (MaxPooling1 (None, 2109, 32)          0         \n",
            "_________________________________________________________________\n",
            "conv1d_2 (Conv1D)            (None, 2106, 64)          8256      \n",
            "_________________________________________________________________\n",
            "re_lu_2 (ReLU)               (None, 2106, 64)          0         \n",
            "_________________________________________________________________\n",
            "batch_normalization_2 (Batch (None, 2106, 64)          256       \n",
            "_________________________________________________________________\n",
            "max_pooling1d_2 (MaxPooling1 (None, 2101, 64)          0         \n",
            "_________________________________________________________________\n",
            "average_pooling1d (AveragePo (None, 525, 64)           0         \n",
            "_________________________________________________________________\n",
            "bidirectional (Bidirectional (None, 525, 256)          148992    \n",
            "_________________________________________________________________\n",
            "attention (attention)        (None, 256)               781       \n",
            "_________________________________________________________________\n",
            "dense (Dense)                (None, 64)                16448     \n",
            "_________________________________________________________________\n",
            "dense_1 (Dense)              (None, 10)                650       \n",
            "=================================================================\n",
            "Total params: 180,647\n",
            "Trainable params: 180,423\n",
            "Non-trainable params: 224\n",
            "_________________________________________________________________\n"
          ],
          "name": "stdout"
        }
      ]
    },
    {
      "cell_type": "code",
      "metadata": {
        "colab": {
          "base_uri": "https://localhost:8080/",
          "height": 1000
        },
        "id": "Aw-0lu6aLwYV",
        "outputId": "535e6ed5-4207-46e7-def0-d525cbbe6bc7"
      },
      "source": [
        "from IPython.display import SVG\n",
        "from keras.utils import vis_utils\n",
        "SVG(vis_utils.model_to_dot(model, show_shapes=True, show_layer_names=True, dpi=60).create(prog='dot', format='svg'))  "
      ],
      "execution_count": 15,
      "outputs": [
        {
          "output_type": "execute_result",
          "data": {
            "text/plain": [
              "<IPython.core.display.SVG object>"
            ],
            "image/svg+xml": "<svg height=\"1222pt\" viewBox=\"0.00 0.00 454.00 1466.00\" width=\"378pt\" xmlns=\"http://www.w3.org/2000/svg\" xmlns:xlink=\"http://www.w3.org/1999/xlink\">\n<g class=\"graph\" id=\"graph0\" transform=\"scale(.8333 .8333) rotate(0) translate(4 1462)\">\n<title>G</title>\n<polygon fill=\"#ffffff\" points=\"-4,4 -4,-1462 450,-1462 450,4 -4,4\" stroke=\"transparent\"/>\n<!-- 139994364847696 -->\n<g class=\"node\" id=\"node1\">\n<title>139994364847696</title>\n<polygon fill=\"none\" points=\"64.5,-1411.5 64.5,-1457.5 381.5,-1457.5 381.5,-1411.5 64.5,-1411.5\" stroke=\"#000000\"/>\n<text fill=\"#000000\" font-family=\"Times,serif\" font-size=\"14.00\" text-anchor=\"middle\" x=\"131\" y=\"-1430.8\">input_1: InputLayer</text>\n<polyline fill=\"none\" points=\"197.5,-1411.5 197.5,-1457.5 \" stroke=\"#000000\"/>\n<text fill=\"#000000\" font-family=\"Times,serif\" font-size=\"14.00\" text-anchor=\"middle\" x=\"226.5\" y=\"-1442.3\">input:</text>\n<polyline fill=\"none\" points=\"197.5,-1434.5 255.5,-1434.5 \" stroke=\"#000000\"/>\n<text fill=\"#000000\" font-family=\"Times,serif\" font-size=\"14.00\" text-anchor=\"middle\" x=\"226.5\" y=\"-1419.3\">output:</text>\n<polyline fill=\"none\" points=\"255.5,-1411.5 255.5,-1457.5 \" stroke=\"#000000\"/>\n<text fill=\"#000000\" font-family=\"Times,serif\" font-size=\"14.00\" text-anchor=\"middle\" x=\"318.5\" y=\"-1442.3\">[(None, 2129, 31)]</text>\n<polyline fill=\"none\" points=\"255.5,-1434.5 381.5,-1434.5 \" stroke=\"#000000\"/>\n<text fill=\"#000000\" font-family=\"Times,serif\" font-size=\"14.00\" text-anchor=\"middle\" x=\"318.5\" y=\"-1419.3\">[(None, 2129, 31)]</text>\n</g>\n<!-- 139994151819728 -->\n<g class=\"node\" id=\"node2\">\n<title>139994151819728</title>\n<polygon fill=\"none\" points=\"76.5,-1328.5 76.5,-1374.5 369.5,-1374.5 369.5,-1328.5 76.5,-1328.5\" stroke=\"#000000\"/>\n<text fill=\"#000000\" font-family=\"Times,serif\" font-size=\"14.00\" text-anchor=\"middle\" x=\"135.5\" y=\"-1347.8\">conv1d: Conv1D</text>\n<polyline fill=\"none\" points=\"194.5,-1328.5 194.5,-1374.5 \" stroke=\"#000000\"/>\n<text fill=\"#000000\" font-family=\"Times,serif\" font-size=\"14.00\" text-anchor=\"middle\" x=\"223.5\" y=\"-1359.3\">input:</text>\n<polyline fill=\"none\" points=\"194.5,-1351.5 252.5,-1351.5 \" stroke=\"#000000\"/>\n<text fill=\"#000000\" font-family=\"Times,serif\" font-size=\"14.00\" text-anchor=\"middle\" x=\"223.5\" y=\"-1336.3\">output:</text>\n<polyline fill=\"none\" points=\"252.5,-1328.5 252.5,-1374.5 \" stroke=\"#000000\"/>\n<text fill=\"#000000\" font-family=\"Times,serif\" font-size=\"14.00\" text-anchor=\"middle\" x=\"311\" y=\"-1359.3\">(None, 2129, 31)</text>\n<polyline fill=\"none\" points=\"252.5,-1351.5 369.5,-1351.5 \" stroke=\"#000000\"/>\n<text fill=\"#000000\" font-family=\"Times,serif\" font-size=\"14.00\" text-anchor=\"middle\" x=\"311\" y=\"-1336.3\">(None, 2124, 16)</text>\n</g>\n<!-- 139994364847696&#45;&gt;139994151819728 -->\n<g class=\"edge\" id=\"edge1\">\n<title>139994364847696-&gt;139994151819728</title>\n<path d=\"M223,-1411.3799C223,-1403.1745 223,-1393.7679 223,-1384.8786\" fill=\"none\" stroke=\"#000000\"/>\n<polygon fill=\"#000000\" points=\"226.5001,-1384.784 223,-1374.784 219.5001,-1384.784 226.5001,-1384.784\" stroke=\"#000000\"/>\n</g>\n<!-- 139994127088208 -->\n<g class=\"node\" id=\"node3\">\n<title>139994127088208</title>\n<polygon fill=\"none\" points=\"91,-1245.5 91,-1291.5 355,-1291.5 355,-1245.5 91,-1245.5\" stroke=\"#000000\"/>\n<text fill=\"#000000\" font-family=\"Times,serif\" font-size=\"14.00\" text-anchor=\"middle\" x=\"135.5\" y=\"-1264.8\">re_lu: ReLU</text>\n<polyline fill=\"none\" points=\"180,-1245.5 180,-1291.5 \" stroke=\"#000000\"/>\n<text fill=\"#000000\" font-family=\"Times,serif\" font-size=\"14.00\" text-anchor=\"middle\" x=\"209\" y=\"-1276.3\">input:</text>\n<polyline fill=\"none\" points=\"180,-1268.5 238,-1268.5 \" stroke=\"#000000\"/>\n<text fill=\"#000000\" font-family=\"Times,serif\" font-size=\"14.00\" text-anchor=\"middle\" x=\"209\" y=\"-1253.3\">output:</text>\n<polyline fill=\"none\" points=\"238,-1245.5 238,-1291.5 \" stroke=\"#000000\"/>\n<text fill=\"#000000\" font-family=\"Times,serif\" font-size=\"14.00\" text-anchor=\"middle\" x=\"296.5\" y=\"-1276.3\">(None, 2124, 16)</text>\n<polyline fill=\"none\" points=\"238,-1268.5 355,-1268.5 \" stroke=\"#000000\"/>\n<text fill=\"#000000\" font-family=\"Times,serif\" font-size=\"14.00\" text-anchor=\"middle\" x=\"296.5\" y=\"-1253.3\">(None, 2124, 16)</text>\n</g>\n<!-- 139994151819728&#45;&gt;139994127088208 -->\n<g class=\"edge\" id=\"edge2\">\n<title>139994151819728-&gt;139994127088208</title>\n<path d=\"M223,-1328.3799C223,-1320.1745 223,-1310.7679 223,-1301.8786\" fill=\"none\" stroke=\"#000000\"/>\n<polygon fill=\"#000000\" points=\"226.5001,-1301.784 223,-1291.784 219.5001,-1301.784 226.5001,-1301.784\" stroke=\"#000000\"/>\n</g>\n<!-- 139994077331344 -->\n<g class=\"node\" id=\"node4\">\n<title>139994077331344</title>\n<polygon fill=\"none\" points=\"7.5,-1162.5 7.5,-1208.5 438.5,-1208.5 438.5,-1162.5 7.5,-1162.5\" stroke=\"#000000\"/>\n<text fill=\"#000000\" font-family=\"Times,serif\" font-size=\"14.00\" text-anchor=\"middle\" x=\"135.5\" y=\"-1181.8\">batch_normalization: BatchNormalization</text>\n<polyline fill=\"none\" points=\"263.5,-1162.5 263.5,-1208.5 \" stroke=\"#000000\"/>\n<text fill=\"#000000\" font-family=\"Times,serif\" font-size=\"14.00\" text-anchor=\"middle\" x=\"292.5\" y=\"-1193.3\">input:</text>\n<polyline fill=\"none\" points=\"263.5,-1185.5 321.5,-1185.5 \" stroke=\"#000000\"/>\n<text fill=\"#000000\" font-family=\"Times,serif\" font-size=\"14.00\" text-anchor=\"middle\" x=\"292.5\" y=\"-1170.3\">output:</text>\n<polyline fill=\"none\" points=\"321.5,-1162.5 321.5,-1208.5 \" stroke=\"#000000\"/>\n<text fill=\"#000000\" font-family=\"Times,serif\" font-size=\"14.00\" text-anchor=\"middle\" x=\"380\" y=\"-1193.3\">(None, 2124, 16)</text>\n<polyline fill=\"none\" points=\"321.5,-1185.5 438.5,-1185.5 \" stroke=\"#000000\"/>\n<text fill=\"#000000\" font-family=\"Times,serif\" font-size=\"14.00\" text-anchor=\"middle\" x=\"380\" y=\"-1170.3\">(None, 2124, 16)</text>\n</g>\n<!-- 139994127088208&#45;&gt;139994077331344 -->\n<g class=\"edge\" id=\"edge3\">\n<title>139994127088208-&gt;139994077331344</title>\n<path d=\"M223,-1245.3799C223,-1237.1745 223,-1227.7679 223,-1218.8786\" fill=\"none\" stroke=\"#000000\"/>\n<polygon fill=\"#000000\" points=\"226.5001,-1218.784 223,-1208.784 219.5001,-1218.784 226.5001,-1218.784\" stroke=\"#000000\"/>\n</g>\n<!-- 139994127228688 -->\n<g class=\"node\" id=\"node5\">\n<title>139994127228688</title>\n<polygon fill=\"none\" points=\"32.5,-1079.5 32.5,-1125.5 413.5,-1125.5 413.5,-1079.5 32.5,-1079.5\" stroke=\"#000000\"/>\n<text fill=\"#000000\" font-family=\"Times,serif\" font-size=\"14.00\" text-anchor=\"middle\" x=\"135.5\" y=\"-1098.8\">max_pooling1d: MaxPooling1D</text>\n<polyline fill=\"none\" points=\"238.5,-1079.5 238.5,-1125.5 \" stroke=\"#000000\"/>\n<text fill=\"#000000\" font-family=\"Times,serif\" font-size=\"14.00\" text-anchor=\"middle\" x=\"267.5\" y=\"-1110.3\">input:</text>\n<polyline fill=\"none\" points=\"238.5,-1102.5 296.5,-1102.5 \" stroke=\"#000000\"/>\n<text fill=\"#000000\" font-family=\"Times,serif\" font-size=\"14.00\" text-anchor=\"middle\" x=\"267.5\" y=\"-1087.3\">output:</text>\n<polyline fill=\"none\" points=\"296.5,-1079.5 296.5,-1125.5 \" stroke=\"#000000\"/>\n<text fill=\"#000000\" font-family=\"Times,serif\" font-size=\"14.00\" text-anchor=\"middle\" x=\"355\" y=\"-1110.3\">(None, 2124, 16)</text>\n<polyline fill=\"none\" points=\"296.5,-1102.5 413.5,-1102.5 \" stroke=\"#000000\"/>\n<text fill=\"#000000\" font-family=\"Times,serif\" font-size=\"14.00\" text-anchor=\"middle\" x=\"355\" y=\"-1087.3\">(None, 2117, 16)</text>\n</g>\n<!-- 139994077331344&#45;&gt;139994127228688 -->\n<g class=\"edge\" id=\"edge4\">\n<title>139994077331344-&gt;139994127228688</title>\n<path d=\"M223,-1162.3799C223,-1154.1745 223,-1144.7679 223,-1135.8786\" fill=\"none\" stroke=\"#000000\"/>\n<polygon fill=\"#000000\" points=\"226.5001,-1135.784 223,-1125.784 219.5001,-1135.784 226.5001,-1135.784\" stroke=\"#000000\"/>\n</g>\n<!-- 139994127085840 -->\n<g class=\"node\" id=\"node6\">\n<title>139994127085840</title>\n<polygon fill=\"none\" points=\"69.5,-996.5 69.5,-1042.5 376.5,-1042.5 376.5,-996.5 69.5,-996.5\" stroke=\"#000000\"/>\n<text fill=\"#000000\" font-family=\"Times,serif\" font-size=\"14.00\" text-anchor=\"middle\" x=\"136\" y=\"-1015.8\">conv1d_1: Conv1D</text>\n<polyline fill=\"none\" points=\"202.5,-996.5 202.5,-1042.5 \" stroke=\"#000000\"/>\n<text fill=\"#000000\" font-family=\"Times,serif\" font-size=\"14.00\" text-anchor=\"middle\" x=\"231.5\" y=\"-1027.3\">input:</text>\n<polyline fill=\"none\" points=\"202.5,-1019.5 260.5,-1019.5 \" stroke=\"#000000\"/>\n<text fill=\"#000000\" font-family=\"Times,serif\" font-size=\"14.00\" text-anchor=\"middle\" x=\"231.5\" y=\"-1004.3\">output:</text>\n<polyline fill=\"none\" points=\"260.5,-996.5 260.5,-1042.5 \" stroke=\"#000000\"/>\n<text fill=\"#000000\" font-family=\"Times,serif\" font-size=\"14.00\" text-anchor=\"middle\" x=\"318.5\" y=\"-1027.3\">(None, 2117, 16)</text>\n<polyline fill=\"none\" points=\"260.5,-1019.5 376.5,-1019.5 \" stroke=\"#000000\"/>\n<text fill=\"#000000\" font-family=\"Times,serif\" font-size=\"14.00\" text-anchor=\"middle\" x=\"318.5\" y=\"-1004.3\">(None, 2114, 32)</text>\n</g>\n<!-- 139994127228688&#45;&gt;139994127085840 -->\n<g class=\"edge\" id=\"edge5\">\n<title>139994127228688-&gt;139994127085840</title>\n<path d=\"M223,-1079.3799C223,-1071.1745 223,-1061.7679 223,-1052.8786\" fill=\"none\" stroke=\"#000000\"/>\n<polygon fill=\"#000000\" points=\"226.5001,-1052.784 223,-1042.784 219.5001,-1052.784 226.5001,-1052.784\" stroke=\"#000000\"/>\n</g>\n<!-- 139994077054800 -->\n<g class=\"node\" id=\"node7\">\n<title>139994077054800</title>\n<polygon fill=\"none\" points=\"84,-913.5 84,-959.5 362,-959.5 362,-913.5 84,-913.5\" stroke=\"#000000\"/>\n<text fill=\"#000000\" font-family=\"Times,serif\" font-size=\"14.00\" text-anchor=\"middle\" x=\"136\" y=\"-932.8\">re_lu_1: ReLU</text>\n<polyline fill=\"none\" points=\"188,-913.5 188,-959.5 \" stroke=\"#000000\"/>\n<text fill=\"#000000\" font-family=\"Times,serif\" font-size=\"14.00\" text-anchor=\"middle\" x=\"217\" y=\"-944.3\">input:</text>\n<polyline fill=\"none\" points=\"188,-936.5 246,-936.5 \" stroke=\"#000000\"/>\n<text fill=\"#000000\" font-family=\"Times,serif\" font-size=\"14.00\" text-anchor=\"middle\" x=\"217\" y=\"-921.3\">output:</text>\n<polyline fill=\"none\" points=\"246,-913.5 246,-959.5 \" stroke=\"#000000\"/>\n<text fill=\"#000000\" font-family=\"Times,serif\" font-size=\"14.00\" text-anchor=\"middle\" x=\"304\" y=\"-944.3\">(None, 2114, 32)</text>\n<polyline fill=\"none\" points=\"246,-936.5 362,-936.5 \" stroke=\"#000000\"/>\n<text fill=\"#000000\" font-family=\"Times,serif\" font-size=\"14.00\" text-anchor=\"middle\" x=\"304\" y=\"-921.3\">(None, 2114, 32)</text>\n</g>\n<!-- 139994127085840&#45;&gt;139994077054800 -->\n<g class=\"edge\" id=\"edge6\">\n<title>139994127085840-&gt;139994077054800</title>\n<path d=\"M223,-996.3799C223,-988.1745 223,-978.7679 223,-969.8786\" fill=\"none\" stroke=\"#000000\"/>\n<polygon fill=\"#000000\" points=\"226.5001,-969.784 223,-959.784 219.5001,-969.784 226.5001,-969.784\" stroke=\"#000000\"/>\n</g>\n<!-- 139994126801104 -->\n<g class=\"node\" id=\"node8\">\n<title>139994126801104</title>\n<polygon fill=\"none\" points=\".5,-830.5 .5,-876.5 445.5,-876.5 445.5,-830.5 .5,-830.5\" stroke=\"#000000\"/>\n<text fill=\"#000000\" font-family=\"Times,serif\" font-size=\"14.00\" text-anchor=\"middle\" x=\"136\" y=\"-849.8\">batch_normalization_1: BatchNormalization</text>\n<polyline fill=\"none\" points=\"271.5,-830.5 271.5,-876.5 \" stroke=\"#000000\"/>\n<text fill=\"#000000\" font-family=\"Times,serif\" font-size=\"14.00\" text-anchor=\"middle\" x=\"300.5\" y=\"-861.3\">input:</text>\n<polyline fill=\"none\" points=\"271.5,-853.5 329.5,-853.5 \" stroke=\"#000000\"/>\n<text fill=\"#000000\" font-family=\"Times,serif\" font-size=\"14.00\" text-anchor=\"middle\" x=\"300.5\" y=\"-838.3\">output:</text>\n<polyline fill=\"none\" points=\"329.5,-830.5 329.5,-876.5 \" stroke=\"#000000\"/>\n<text fill=\"#000000\" font-family=\"Times,serif\" font-size=\"14.00\" text-anchor=\"middle\" x=\"387.5\" y=\"-861.3\">(None, 2114, 32)</text>\n<polyline fill=\"none\" points=\"329.5,-853.5 445.5,-853.5 \" stroke=\"#000000\"/>\n<text fill=\"#000000\" font-family=\"Times,serif\" font-size=\"14.00\" text-anchor=\"middle\" x=\"387.5\" y=\"-838.3\">(None, 2114, 32)</text>\n</g>\n<!-- 139994077054800&#45;&gt;139994126801104 -->\n<g class=\"edge\" id=\"edge7\">\n<title>139994077054800-&gt;139994126801104</title>\n<path d=\"M223,-913.3799C223,-905.1745 223,-895.7679 223,-886.8786\" fill=\"none\" stroke=\"#000000\"/>\n<polygon fill=\"#000000\" points=\"226.5001,-886.784 223,-876.784 219.5001,-886.784 226.5001,-886.784\" stroke=\"#000000\"/>\n</g>\n<!-- 139994077472336 -->\n<g class=\"node\" id=\"node9\">\n<title>139994077472336</title>\n<polygon fill=\"none\" points=\"25,-747.5 25,-793.5 421,-793.5 421,-747.5 25,-747.5\" stroke=\"#000000\"/>\n<text fill=\"#000000\" font-family=\"Times,serif\" font-size=\"14.00\" text-anchor=\"middle\" x=\"135.5\" y=\"-766.8\">max_pooling1d_1: MaxPooling1D</text>\n<polyline fill=\"none\" points=\"246,-747.5 246,-793.5 \" stroke=\"#000000\"/>\n<text fill=\"#000000\" font-family=\"Times,serif\" font-size=\"14.00\" text-anchor=\"middle\" x=\"275\" y=\"-778.3\">input:</text>\n<polyline fill=\"none\" points=\"246,-770.5 304,-770.5 \" stroke=\"#000000\"/>\n<text fill=\"#000000\" font-family=\"Times,serif\" font-size=\"14.00\" text-anchor=\"middle\" x=\"275\" y=\"-755.3\">output:</text>\n<polyline fill=\"none\" points=\"304,-747.5 304,-793.5 \" stroke=\"#000000\"/>\n<text fill=\"#000000\" font-family=\"Times,serif\" font-size=\"14.00\" text-anchor=\"middle\" x=\"362.5\" y=\"-778.3\">(None, 2114, 32)</text>\n<polyline fill=\"none\" points=\"304,-770.5 421,-770.5 \" stroke=\"#000000\"/>\n<text fill=\"#000000\" font-family=\"Times,serif\" font-size=\"14.00\" text-anchor=\"middle\" x=\"362.5\" y=\"-755.3\">(None, 2109, 32)</text>\n</g>\n<!-- 139994126801104&#45;&gt;139994077472336 -->\n<g class=\"edge\" id=\"edge8\">\n<title>139994126801104-&gt;139994077472336</title>\n<path d=\"M223,-830.3799C223,-822.1745 223,-812.7679 223,-803.8786\" fill=\"none\" stroke=\"#000000\"/>\n<polygon fill=\"#000000\" points=\"226.5001,-803.784 223,-793.784 219.5001,-803.784 226.5001,-803.784\" stroke=\"#000000\"/>\n</g>\n<!-- 139994077072784 -->\n<g class=\"node\" id=\"node10\">\n<title>139994077072784</title>\n<polygon fill=\"none\" points=\"69,-664.5 69,-710.5 377,-710.5 377,-664.5 69,-664.5\" stroke=\"#000000\"/>\n<text fill=\"#000000\" font-family=\"Times,serif\" font-size=\"14.00\" text-anchor=\"middle\" x=\"135.5\" y=\"-683.8\">conv1d_2: Conv1D</text>\n<polyline fill=\"none\" points=\"202,-664.5 202,-710.5 \" stroke=\"#000000\"/>\n<text fill=\"#000000\" font-family=\"Times,serif\" font-size=\"14.00\" text-anchor=\"middle\" x=\"231\" y=\"-695.3\">input:</text>\n<polyline fill=\"none\" points=\"202,-687.5 260,-687.5 \" stroke=\"#000000\"/>\n<text fill=\"#000000\" font-family=\"Times,serif\" font-size=\"14.00\" text-anchor=\"middle\" x=\"231\" y=\"-672.3\">output:</text>\n<polyline fill=\"none\" points=\"260,-664.5 260,-710.5 \" stroke=\"#000000\"/>\n<text fill=\"#000000\" font-family=\"Times,serif\" font-size=\"14.00\" text-anchor=\"middle\" x=\"318.5\" y=\"-695.3\">(None, 2109, 32)</text>\n<polyline fill=\"none\" points=\"260,-687.5 377,-687.5 \" stroke=\"#000000\"/>\n<text fill=\"#000000\" font-family=\"Times,serif\" font-size=\"14.00\" text-anchor=\"middle\" x=\"318.5\" y=\"-672.3\">(None, 2106, 64)</text>\n</g>\n<!-- 139994077472336&#45;&gt;139994077072784 -->\n<g class=\"edge\" id=\"edge9\">\n<title>139994077472336-&gt;139994077072784</title>\n<path d=\"M223,-747.3799C223,-739.1745 223,-729.7679 223,-720.8786\" fill=\"none\" stroke=\"#000000\"/>\n<polygon fill=\"#000000\" points=\"226.5001,-720.784 223,-710.784 219.5001,-720.784 226.5001,-720.784\" stroke=\"#000000\"/>\n</g>\n<!-- 139994077130384 -->\n<g class=\"node\" id=\"node11\">\n<title>139994077130384</title>\n<polygon fill=\"none\" points=\"83.5,-581.5 83.5,-627.5 362.5,-627.5 362.5,-581.5 83.5,-581.5\" stroke=\"#000000\"/>\n<text fill=\"#000000\" font-family=\"Times,serif\" font-size=\"14.00\" text-anchor=\"middle\" x=\"135.5\" y=\"-600.8\">re_lu_2: ReLU</text>\n<polyline fill=\"none\" points=\"187.5,-581.5 187.5,-627.5 \" stroke=\"#000000\"/>\n<text fill=\"#000000\" font-family=\"Times,serif\" font-size=\"14.00\" text-anchor=\"middle\" x=\"216.5\" y=\"-612.3\">input:</text>\n<polyline fill=\"none\" points=\"187.5,-604.5 245.5,-604.5 \" stroke=\"#000000\"/>\n<text fill=\"#000000\" font-family=\"Times,serif\" font-size=\"14.00\" text-anchor=\"middle\" x=\"216.5\" y=\"-589.3\">output:</text>\n<polyline fill=\"none\" points=\"245.5,-581.5 245.5,-627.5 \" stroke=\"#000000\"/>\n<text fill=\"#000000\" font-family=\"Times,serif\" font-size=\"14.00\" text-anchor=\"middle\" x=\"304\" y=\"-612.3\">(None, 2106, 64)</text>\n<polyline fill=\"none\" points=\"245.5,-604.5 362.5,-604.5 \" stroke=\"#000000\"/>\n<text fill=\"#000000\" font-family=\"Times,serif\" font-size=\"14.00\" text-anchor=\"middle\" x=\"304\" y=\"-589.3\">(None, 2106, 64)</text>\n</g>\n<!-- 139994077072784&#45;&gt;139994077130384 -->\n<g class=\"edge\" id=\"edge10\">\n<title>139994077072784-&gt;139994077130384</title>\n<path d=\"M223,-664.3799C223,-656.1745 223,-646.7679 223,-637.8786\" fill=\"none\" stroke=\"#000000\"/>\n<polygon fill=\"#000000\" points=\"226.5001,-637.784 223,-627.784 219.5001,-637.784 226.5001,-637.784\" stroke=\"#000000\"/>\n</g>\n<!-- 139994077091408 -->\n<g class=\"node\" id=\"node12\">\n<title>139994077091408</title>\n<polygon fill=\"none\" points=\"0,-498.5 0,-544.5 446,-544.5 446,-498.5 0,-498.5\" stroke=\"#000000\"/>\n<text fill=\"#000000\" font-family=\"Times,serif\" font-size=\"14.00\" text-anchor=\"middle\" x=\"135.5\" y=\"-517.8\">batch_normalization_2: BatchNormalization</text>\n<polyline fill=\"none\" points=\"271,-498.5 271,-544.5 \" stroke=\"#000000\"/>\n<text fill=\"#000000\" font-family=\"Times,serif\" font-size=\"14.00\" text-anchor=\"middle\" x=\"300\" y=\"-529.3\">input:</text>\n<polyline fill=\"none\" points=\"271,-521.5 329,-521.5 \" stroke=\"#000000\"/>\n<text fill=\"#000000\" font-family=\"Times,serif\" font-size=\"14.00\" text-anchor=\"middle\" x=\"300\" y=\"-506.3\">output:</text>\n<polyline fill=\"none\" points=\"329,-498.5 329,-544.5 \" stroke=\"#000000\"/>\n<text fill=\"#000000\" font-family=\"Times,serif\" font-size=\"14.00\" text-anchor=\"middle\" x=\"387.5\" y=\"-529.3\">(None, 2106, 64)</text>\n<polyline fill=\"none\" points=\"329,-521.5 446,-521.5 \" stroke=\"#000000\"/>\n<text fill=\"#000000\" font-family=\"Times,serif\" font-size=\"14.00\" text-anchor=\"middle\" x=\"387.5\" y=\"-506.3\">(None, 2106, 64)</text>\n</g>\n<!-- 139994077130384&#45;&gt;139994077091408 -->\n<g class=\"edge\" id=\"edge11\">\n<title>139994077130384-&gt;139994077091408</title>\n<path d=\"M223,-581.3799C223,-573.1745 223,-563.7679 223,-554.8786\" fill=\"none\" stroke=\"#000000\"/>\n<polygon fill=\"#000000\" points=\"226.5001,-554.784 223,-544.784 219.5001,-554.784 226.5001,-554.784\" stroke=\"#000000\"/>\n</g>\n<!-- 139994077150480 -->\n<g class=\"node\" id=\"node13\">\n<title>139994077150480</title>\n<polygon fill=\"none\" points=\"25,-415.5 25,-461.5 421,-461.5 421,-415.5 25,-415.5\" stroke=\"#000000\"/>\n<text fill=\"#000000\" font-family=\"Times,serif\" font-size=\"14.00\" text-anchor=\"middle\" x=\"135.5\" y=\"-434.8\">max_pooling1d_2: MaxPooling1D</text>\n<polyline fill=\"none\" points=\"246,-415.5 246,-461.5 \" stroke=\"#000000\"/>\n<text fill=\"#000000\" font-family=\"Times,serif\" font-size=\"14.00\" text-anchor=\"middle\" x=\"275\" y=\"-446.3\">input:</text>\n<polyline fill=\"none\" points=\"246,-438.5 304,-438.5 \" stroke=\"#000000\"/>\n<text fill=\"#000000\" font-family=\"Times,serif\" font-size=\"14.00\" text-anchor=\"middle\" x=\"275\" y=\"-423.3\">output:</text>\n<polyline fill=\"none\" points=\"304,-415.5 304,-461.5 \" stroke=\"#000000\"/>\n<text fill=\"#000000\" font-family=\"Times,serif\" font-size=\"14.00\" text-anchor=\"middle\" x=\"362.5\" y=\"-446.3\">(None, 2106, 64)</text>\n<polyline fill=\"none\" points=\"304,-438.5 421,-438.5 \" stroke=\"#000000\"/>\n<text fill=\"#000000\" font-family=\"Times,serif\" font-size=\"14.00\" text-anchor=\"middle\" x=\"362.5\" y=\"-423.3\">(None, 2101, 64)</text>\n</g>\n<!-- 139994077091408&#45;&gt;139994077150480 -->\n<g class=\"edge\" id=\"edge12\">\n<title>139994077091408-&gt;139994077150480</title>\n<path d=\"M223,-498.3799C223,-490.1745 223,-480.7679 223,-471.8786\" fill=\"none\" stroke=\"#000000\"/>\n<polygon fill=\"#000000\" points=\"226.5001,-471.784 223,-461.784 219.5001,-471.784 226.5001,-471.784\" stroke=\"#000000\"/>\n</g>\n<!-- 139994077072464 -->\n<g class=\"node\" id=\"node14\">\n<title>139994077072464</title>\n<polygon fill=\"none\" points=\"13,-332.5 13,-378.5 433,-378.5 433,-332.5 13,-332.5\" stroke=\"#000000\"/>\n<text fill=\"#000000\" font-family=\"Times,serif\" font-size=\"14.00\" text-anchor=\"middle\" x=\"135.5\" y=\"-351.8\">average_pooling1d: AveragePooling1D</text>\n<polyline fill=\"none\" points=\"258,-332.5 258,-378.5 \" stroke=\"#000000\"/>\n<text fill=\"#000000\" font-family=\"Times,serif\" font-size=\"14.00\" text-anchor=\"middle\" x=\"287\" y=\"-363.3\">input:</text>\n<polyline fill=\"none\" points=\"258,-355.5 316,-355.5 \" stroke=\"#000000\"/>\n<text fill=\"#000000\" font-family=\"Times,serif\" font-size=\"14.00\" text-anchor=\"middle\" x=\"287\" y=\"-340.3\">output:</text>\n<polyline fill=\"none\" points=\"316,-332.5 316,-378.5 \" stroke=\"#000000\"/>\n<text fill=\"#000000\" font-family=\"Times,serif\" font-size=\"14.00\" text-anchor=\"middle\" x=\"374.5\" y=\"-363.3\">(None, 2101, 64)</text>\n<polyline fill=\"none\" points=\"316,-355.5 433,-355.5 \" stroke=\"#000000\"/>\n<text fill=\"#000000\" font-family=\"Times,serif\" font-size=\"14.00\" text-anchor=\"middle\" x=\"374.5\" y=\"-340.3\">(None, 525, 64)</text>\n</g>\n<!-- 139994077150480&#45;&gt;139994077072464 -->\n<g class=\"edge\" id=\"edge13\">\n<title>139994077150480-&gt;139994077072464</title>\n<path d=\"M223,-415.3799C223,-407.1745 223,-397.7679 223,-388.8786\" fill=\"none\" stroke=\"#000000\"/>\n<polygon fill=\"#000000\" points=\"226.5001,-388.784 223,-378.784 219.5001,-388.784 226.5001,-388.784\" stroke=\"#000000\"/>\n</g>\n<!-- 139994077188496 -->\n<g class=\"node\" id=\"node15\">\n<title>139994077188496</title>\n<polygon fill=\"none\" points=\"17,-249.5 17,-295.5 429,-295.5 429,-249.5 17,-249.5\" stroke=\"#000000\"/>\n<text fill=\"#000000\" font-family=\"Times,serif\" font-size=\"14.00\" text-anchor=\"middle\" x=\"135.5\" y=\"-268.8\">bidirectional(gru): Bidirectional(GRU)</text>\n<polyline fill=\"none\" points=\"254,-249.5 254,-295.5 \" stroke=\"#000000\"/>\n<text fill=\"#000000\" font-family=\"Times,serif\" font-size=\"14.00\" text-anchor=\"middle\" x=\"283\" y=\"-280.3\">input:</text>\n<polyline fill=\"none\" points=\"254,-272.5 312,-272.5 \" stroke=\"#000000\"/>\n<text fill=\"#000000\" font-family=\"Times,serif\" font-size=\"14.00\" text-anchor=\"middle\" x=\"283\" y=\"-257.3\">output:</text>\n<polyline fill=\"none\" points=\"312,-249.5 312,-295.5 \" stroke=\"#000000\"/>\n<text fill=\"#000000\" font-family=\"Times,serif\" font-size=\"14.00\" text-anchor=\"middle\" x=\"370.5\" y=\"-280.3\">(None, 525, 64)</text>\n<polyline fill=\"none\" points=\"312,-272.5 429,-272.5 \" stroke=\"#000000\"/>\n<text fill=\"#000000\" font-family=\"Times,serif\" font-size=\"14.00\" text-anchor=\"middle\" x=\"370.5\" y=\"-257.3\">(None, 525, 256)</text>\n</g>\n<!-- 139994077072464&#45;&gt;139994077188496 -->\n<g class=\"edge\" id=\"edge14\">\n<title>139994077072464-&gt;139994077188496</title>\n<path d=\"M223,-332.3799C223,-324.1745 223,-314.7679 223,-305.8786\" fill=\"none\" stroke=\"#000000\"/>\n<polygon fill=\"#000000\" points=\"226.5001,-305.784 223,-295.784 219.5001,-305.784 226.5001,-305.784\" stroke=\"#000000\"/>\n</g>\n<!-- 139994077231248 -->\n<g class=\"node\" id=\"node16\">\n<title>139994077231248</title>\n<polygon fill=\"none\" points=\"74,-166.5 74,-212.5 372,-212.5 372,-166.5 74,-166.5\" stroke=\"#000000\"/>\n<text fill=\"#000000\" font-family=\"Times,serif\" font-size=\"14.00\" text-anchor=\"middle\" x=\"135.5\" y=\"-185.8\">attention: attention</text>\n<polyline fill=\"none\" points=\"197,-166.5 197,-212.5 \" stroke=\"#000000\"/>\n<text fill=\"#000000\" font-family=\"Times,serif\" font-size=\"14.00\" text-anchor=\"middle\" x=\"226\" y=\"-197.3\">input:</text>\n<polyline fill=\"none\" points=\"197,-189.5 255,-189.5 \" stroke=\"#000000\"/>\n<text fill=\"#000000\" font-family=\"Times,serif\" font-size=\"14.00\" text-anchor=\"middle\" x=\"226\" y=\"-174.3\">output:</text>\n<polyline fill=\"none\" points=\"255,-166.5 255,-212.5 \" stroke=\"#000000\"/>\n<text fill=\"#000000\" font-family=\"Times,serif\" font-size=\"14.00\" text-anchor=\"middle\" x=\"313.5\" y=\"-197.3\">(None, 525, 256)</text>\n<polyline fill=\"none\" points=\"255,-189.5 372,-189.5 \" stroke=\"#000000\"/>\n<text fill=\"#000000\" font-family=\"Times,serif\" font-size=\"14.00\" text-anchor=\"middle\" x=\"313.5\" y=\"-174.3\">(None, 256)</text>\n</g>\n<!-- 139994077188496&#45;&gt;139994077231248 -->\n<g class=\"edge\" id=\"edge15\">\n<title>139994077188496-&gt;139994077231248</title>\n<path d=\"M223,-249.3799C223,-241.1745 223,-231.7679 223,-222.8786\" fill=\"none\" stroke=\"#000000\"/>\n<polygon fill=\"#000000\" points=\"226.5001,-222.784 223,-212.784 219.5001,-222.784 226.5001,-222.784\" stroke=\"#000000\"/>\n</g>\n<!-- 139994075160336 -->\n<g class=\"node\" id=\"node17\">\n<title>139994075160336</title>\n<polygon fill=\"none\" points=\"104.5,-83.5 104.5,-129.5 341.5,-129.5 341.5,-83.5 104.5,-83.5\" stroke=\"#000000\"/>\n<text fill=\"#000000\" font-family=\"Times,serif\" font-size=\"14.00\" text-anchor=\"middle\" x=\"150.5\" y=\"-102.8\">dense: Dense</text>\n<polyline fill=\"none\" points=\"196.5,-83.5 196.5,-129.5 \" stroke=\"#000000\"/>\n<text fill=\"#000000\" font-family=\"Times,serif\" font-size=\"14.00\" text-anchor=\"middle\" x=\"225.5\" y=\"-114.3\">input:</text>\n<polyline fill=\"none\" points=\"196.5,-106.5 254.5,-106.5 \" stroke=\"#000000\"/>\n<text fill=\"#000000\" font-family=\"Times,serif\" font-size=\"14.00\" text-anchor=\"middle\" x=\"225.5\" y=\"-91.3\">output:</text>\n<polyline fill=\"none\" points=\"254.5,-83.5 254.5,-129.5 \" stroke=\"#000000\"/>\n<text fill=\"#000000\" font-family=\"Times,serif\" font-size=\"14.00\" text-anchor=\"middle\" x=\"298\" y=\"-114.3\">(None, 256)</text>\n<polyline fill=\"none\" points=\"254.5,-106.5 341.5,-106.5 \" stroke=\"#000000\"/>\n<text fill=\"#000000\" font-family=\"Times,serif\" font-size=\"14.00\" text-anchor=\"middle\" x=\"298\" y=\"-91.3\">(None, 64)</text>\n</g>\n<!-- 139994077231248&#45;&gt;139994075160336 -->\n<g class=\"edge\" id=\"edge16\">\n<title>139994077231248-&gt;139994075160336</title>\n<path d=\"M223,-166.3799C223,-158.1745 223,-148.7679 223,-139.8786\" fill=\"none\" stroke=\"#000000\"/>\n<polygon fill=\"#000000\" points=\"226.5001,-139.784 223,-129.784 219.5001,-139.784 226.5001,-139.784\" stroke=\"#000000\"/>\n</g>\n<!-- 139994074426000 -->\n<g class=\"node\" id=\"node18\">\n<title>139994074426000</title>\n<polygon fill=\"none\" points=\"100.5,-.5 100.5,-46.5 345.5,-46.5 345.5,-.5 100.5,-.5\" stroke=\"#000000\"/>\n<text fill=\"#000000\" font-family=\"Times,serif\" font-size=\"14.00\" text-anchor=\"middle\" x=\"154\" y=\"-19.8\">dense_1: Dense</text>\n<polyline fill=\"none\" points=\"207.5,-.5 207.5,-46.5 \" stroke=\"#000000\"/>\n<text fill=\"#000000\" font-family=\"Times,serif\" font-size=\"14.00\" text-anchor=\"middle\" x=\"236.5\" y=\"-31.3\">input:</text>\n<polyline fill=\"none\" points=\"207.5,-23.5 265.5,-23.5 \" stroke=\"#000000\"/>\n<text fill=\"#000000\" font-family=\"Times,serif\" font-size=\"14.00\" text-anchor=\"middle\" x=\"236.5\" y=\"-8.3\">output:</text>\n<polyline fill=\"none\" points=\"265.5,-.5 265.5,-46.5 \" stroke=\"#000000\"/>\n<text fill=\"#000000\" font-family=\"Times,serif\" font-size=\"14.00\" text-anchor=\"middle\" x=\"305.5\" y=\"-31.3\">(None, 64)</text>\n<polyline fill=\"none\" points=\"265.5,-23.5 345.5,-23.5 \" stroke=\"#000000\"/>\n<text fill=\"#000000\" font-family=\"Times,serif\" font-size=\"14.00\" text-anchor=\"middle\" x=\"305.5\" y=\"-8.3\">(None, 10)</text>\n</g>\n<!-- 139994075160336&#45;&gt;139994074426000 -->\n<g class=\"edge\" id=\"edge17\">\n<title>139994075160336-&gt;139994074426000</title>\n<path d=\"M223,-83.3799C223,-75.1745 223,-65.7679 223,-56.8786\" fill=\"none\" stroke=\"#000000\"/>\n<polygon fill=\"#000000\" points=\"226.5001,-56.784 223,-46.784 219.5001,-56.784 226.5001,-56.784\" stroke=\"#000000\"/>\n</g>\n</g>\n</svg>"
          },
          "metadata": {
            "tags": []
          },
          "execution_count": 15
        }
      ]
    },
    {
      "cell_type": "code",
      "metadata": {
        "colab": {
          "base_uri": "https://localhost:8080/"
        },
        "id": "ntKD2_kHLzZk",
        "outputId": "45a6dd78-d5ca-4d5b-f3f1-47ee52f8f03f"
      },
      "source": [
        "print(len(features_convolution), len(labels_matrix))\n",
        "print(len(features_convolution_val), len(labels_matrix_val))\n",
        "print(len(features_convolution_test), len(labels_matrix_test))"
      ],
      "execution_count": 16,
      "outputs": [
        {
          "output_type": "stream",
          "text": [
            "7992 7992\n",
            "999 999\n",
            "999 999\n"
          ],
          "name": "stdout"
        }
      ]
    },
    {
      "cell_type": "code",
      "metadata": {
        "colab": {
          "base_uri": "https://localhost:8080/"
        },
        "id": "TpWSyMlvL28F",
        "outputId": "c3af7023-6074-4393-f1a0-7dcbbaa17769"
      },
      "source": [
        "from keras.callbacks import EarlyStopping\n",
        "from keras.callbacks import ModelCheckpoint\n",
        "from keras.callbacks import  ReduceLROnPlateau\n",
        "\n",
        "earlyStopping = EarlyStopping(monitor='val_loss', patience=5, verbose=0, mode='min')\n",
        "mcp_save = ModelCheckpoint('.mdl_wts.hdf5', save_best_only=True, monitor='val_loss', mode='min')\n",
        "reduce_lr_loss = ReduceLROnPlateau(monitor='val_loss', factor=0.1, patience=3, verbose=1, min_delta=1e-4, mode='min')\n",
        "\n",
        "epochs = 30\n",
        "history = model.fit(features_convolution, labels_matrix,batch_size=128,  epochs=epochs, callbacks=[earlyStopping, mcp_save, reduce_lr_loss], validation_data=(features_convolution_val, labels_matrix_val))"
      ],
      "execution_count": 17,
      "outputs": [
        {
          "output_type": "stream",
          "text": [
            "Epoch 1/30\n",
            "63/63 [==============================] - 326s 5s/step - loss: 1.8105 - accuracy: 0.3575 - val_loss: 1.9266 - val_accuracy: 0.3463\n",
            "Epoch 2/30\n",
            "63/63 [==============================] - 308s 5s/step - loss: 1.3587 - accuracy: 0.5292 - val_loss: 1.7601 - val_accuracy: 0.3804\n",
            "Epoch 3/30\n",
            "63/63 [==============================] - 309s 5s/step - loss: 1.1555 - accuracy: 0.6077 - val_loss: 1.3424 - val_accuracy: 0.5345\n",
            "Epoch 4/30\n",
            "63/63 [==============================] - 305s 5s/step - loss: 1.0263 - accuracy: 0.6499 - val_loss: 1.3845 - val_accuracy: 0.4965\n",
            "Epoch 5/30\n",
            "63/63 [==============================] - 306s 5s/step - loss: 0.9154 - accuracy: 0.6913 - val_loss: 1.2421 - val_accuracy: 0.5766\n",
            "Epoch 6/30\n",
            "63/63 [==============================] - 306s 5s/step - loss: 0.8149 - accuracy: 0.7184 - val_loss: 0.9043 - val_accuracy: 0.6907\n",
            "Epoch 7/30\n",
            "63/63 [==============================] - 317s 5s/step - loss: 0.7280 - accuracy: 0.7646 - val_loss: 0.8388 - val_accuracy: 0.7377\n",
            "Epoch 8/30\n",
            "63/63 [==============================] - 315s 5s/step - loss: 0.6408 - accuracy: 0.7892 - val_loss: 0.8169 - val_accuracy: 0.7397\n",
            "Epoch 9/30\n",
            "63/63 [==============================] - 310s 5s/step - loss: 0.5926 - accuracy: 0.8015 - val_loss: 0.8766 - val_accuracy: 0.7107\n",
            "Epoch 10/30\n",
            "63/63 [==============================] - 310s 5s/step - loss: 0.5494 - accuracy: 0.8160 - val_loss: 0.7917 - val_accuracy: 0.7447\n",
            "Epoch 11/30\n",
            "63/63 [==============================] - 306s 5s/step - loss: 0.4802 - accuracy: 0.8450 - val_loss: 0.7542 - val_accuracy: 0.7568\n",
            "Epoch 12/30\n",
            "63/63 [==============================] - 305s 5s/step - loss: 0.4448 - accuracy: 0.8523 - val_loss: 0.6788 - val_accuracy: 0.7888\n",
            "Epoch 13/30\n",
            "63/63 [==============================] - 304s 5s/step - loss: 0.3785 - accuracy: 0.8786 - val_loss: 0.6614 - val_accuracy: 0.7898\n",
            "Epoch 14/30\n",
            "63/63 [==============================] - 310s 5s/step - loss: 0.3482 - accuracy: 0.8838 - val_loss: 0.6697 - val_accuracy: 0.7808\n",
            "Epoch 15/30\n",
            "63/63 [==============================] - 311s 5s/step - loss: 0.3121 - accuracy: 0.8979 - val_loss: 0.6394 - val_accuracy: 0.8068\n",
            "Epoch 16/30\n",
            "63/63 [==============================] - 304s 5s/step - loss: 0.2754 - accuracy: 0.9124 - val_loss: 0.6894 - val_accuracy: 0.7828\n",
            "Epoch 17/30\n",
            "63/63 [==============================] - 304s 5s/step - loss: 0.2592 - accuracy: 0.9143 - val_loss: 0.6725 - val_accuracy: 0.8038\n",
            "Epoch 18/30\n",
            "63/63 [==============================] - 303s 5s/step - loss: 0.2168 - accuracy: 0.9335 - val_loss: 0.6176 - val_accuracy: 0.8148\n",
            "Epoch 19/30\n",
            "63/63 [==============================] - 307s 5s/step - loss: 0.1764 - accuracy: 0.9431 - val_loss: 0.6656 - val_accuracy: 0.8078\n",
            "Epoch 20/30\n",
            "63/63 [==============================] - 309s 5s/step - loss: 0.1821 - accuracy: 0.9420 - val_loss: 0.6599 - val_accuracy: 0.8168\n",
            "Epoch 21/30\n",
            "63/63 [==============================] - 308s 5s/step - loss: 0.1461 - accuracy: 0.9577 - val_loss: 0.6427 - val_accuracy: 0.8198\n",
            "\n",
            "Epoch 00021: ReduceLROnPlateau reducing learning rate to 0.00010000000474974513.\n",
            "Epoch 22/30\n",
            "63/63 [==============================] - 307s 5s/step - loss: 0.1036 - accuracy: 0.9737 - val_loss: 0.5295 - val_accuracy: 0.8398\n",
            "Epoch 23/30\n",
            "63/63 [==============================] - 308s 5s/step - loss: 0.0779 - accuracy: 0.9825 - val_loss: 0.5232 - val_accuracy: 0.8519\n",
            "Epoch 24/30\n",
            "63/63 [==============================] - 308s 5s/step - loss: 0.0681 - accuracy: 0.9856 - val_loss: 0.5278 - val_accuracy: 0.8549\n",
            "Epoch 25/30\n",
            "63/63 [==============================] - 302s 5s/step - loss: 0.0669 - accuracy: 0.9882 - val_loss: 0.5284 - val_accuracy: 0.8529\n",
            "Epoch 26/30\n",
            "63/63 [==============================] - 308s 5s/step - loss: 0.0640 - accuracy: 0.9880 - val_loss: 0.5421 - val_accuracy: 0.8478\n",
            "\n",
            "Epoch 00026: ReduceLROnPlateau reducing learning rate to 1.0000000474974514e-05.\n",
            "Epoch 27/30\n",
            "63/63 [==============================] - 303s 5s/step - loss: 0.0581 - accuracy: 0.9905 - val_loss: 0.5367 - val_accuracy: 0.8519\n",
            "Epoch 28/30\n",
            "63/63 [==============================] - 304s 5s/step - loss: 0.0600 - accuracy: 0.9873 - val_loss: 0.5339 - val_accuracy: 0.8519\n"
          ],
          "name": "stdout"
        }
      ]
    },
    {
      "cell_type": "code",
      "metadata": {
        "colab": {
          "base_uri": "https://localhost:8080/",
          "height": 385
        },
        "id": "WAfYH1QWNU9-",
        "outputId": "667bf2e4-e242-459f-e8d5-7b181f000b23"
      },
      "source": [
        "\n",
        "from plot_keras_history import plot_history\n",
        "import matplotlib.pyplot as plt\n",
        "\n",
        "plot_history(history.history, path=\"standard.png\")\n",
        "plt.show()"
      ],
      "execution_count": 18,
      "outputs": [
        {
          "output_type": "display_data",
          "data": {
            "image/png": "[encoded data removed]",
            "text/plain": [
              "<Figure size 1080x360 with 3 Axes>"
            ]
          },
          "metadata": {
            "tags": [],
            "needs_background": "light"
          }
        }
      ]
    },
    {
      "cell_type": "code",
      "metadata": {
        "id": "8Cci28UpNW1u"
      },
      "source": [
        "def plot_confusion_matrix(cm,\n",
        "                          target_names,\n",
        "                          title='Confusion matrix',\n",
        "                          cmap=None,\n",
        "                          normalize=False):\n",
        "    \"\"\"\n",
        "    given a sklearn confusion matrix (cm), make a nice plot\n",
        "\n",
        "    Arguments\n",
        "    ---------\n",
        "    cm:           confusion matrix from sklearn.metrics.confusion_matrix\n",
        "\n",
        "    target_names: given classification classes such as [0, 1, 2]\n",
        "                  the class names, for example: ['high', 'medium', 'low']\n",
        "\n",
        "    title:        the text to display at the top of the matrix\n",
        "\n",
        "    cmap:         the gradient of the values displayed from matplotlib.pyplot.cm\n",
        "                  see http://matplotlib.org/examples/color/colormaps_reference.html\n",
        "                  plt.get_cmap('jet') or plt.cm.Blues\n",
        "\n",
        "    normalize:    If False, plot the raw numbers\n",
        "                  If True, plot the proportions\n",
        "\n",
        "    Usage\n",
        "    -----\n",
        "    plot_confusion_matrix(cm           = cm,                  # confusion matrix created by\n",
        "                                                              # sklearn.metrics.confusion_matrix\n",
        "                          normalize    = True,                # show proportions\n",
        "                          target_names = y_labels_vals,       # list of names of the classes\n",
        "                          title        = best_estimator_name) # title of graph\n",
        "\n",
        "    Citiation\n",
        "    ---------\n",
        "    http://scikit-learn.org/stable/auto_examples/model_selection/plot_confusion_matrix.html\n",
        "\n",
        "    \"\"\"\n",
        "    import matplotlib.pyplot as plt\n",
        "    import numpy as np\n",
        "    import itertools\n",
        "\n",
        "    accuracy = np.trace(cm) / np.sum(cm).astype('float')\n",
        "    misclass = 1 - accuracy\n",
        "\n",
        "    if cmap is None:\n",
        "        cmap = plt.get_cmap('Blues')\n",
        "\n",
        "    plt.figure(figsize=(8, 6))\n",
        "    plt.imshow(cm, interpolation='nearest', cmap=cmap)\n",
        "    plt.title(title)\n",
        "    plt.colorbar()\n",
        "\n",
        "    if target_names is not None:\n",
        "        tick_marks = np.arange(len(target_names))\n",
        "        plt.xticks(tick_marks, target_names, rotation=45)\n",
        "        plt.yticks(tick_marks, target_names)\n",
        "\n",
        "    if normalize:\n",
        "        cm = cm.astype('float') / cm.sum(axis=1)[:, np.newaxis]\n",
        "\n",
        "\n",
        "    thresh = cm.max() / 1.5 if normalize else cm.max() / 2\n",
        "    for i, j in itertools.product(range(cm.shape[0]), range(cm.shape[1])):\n",
        "        if normalize:\n",
        "            plt.text(j, i, \"{:0.4f}\".format(cm[i, j]),\n",
        "                     horizontalalignment=\"center\",\n",
        "                     color=\"white\" if cm[i, j] > thresh else \"black\")\n",
        "        else:\n",
        "            plt.text(j, i, \"{:,}\".format(cm[i, j]),\n",
        "                     horizontalalignment=\"center\",\n",
        "                     color=\"white\" if cm[i, j] > thresh else \"black\")\n",
        "\n",
        "\n",
        "    plt.tight_layout()\n",
        "    plt.ylabel('True label')\n",
        "    plt.xlabel('Predicted label\\naccuracy={:0.4f}; misclass={:0.4f}'.format(accuracy, misclass))\n",
        "    plt.show()"
      ],
      "execution_count": 19,
      "outputs": []
    },
    {
      "cell_type": "code",
      "metadata": {
        "colab": {
          "base_uri": "https://localhost:8080/",
          "height": 484
        },
        "id": "OFDcu2jDNYuk",
        "outputId": "b4ca7258-22bb-48f6-807f-10d04614f9a1"
      },
      "source": [
        "\n",
        "from sklearn.metrics import confusion_matrix\n",
        "\n",
        "model.evaluate(features_convolution_test, labels_matrix_test)\n",
        "\n",
        "y_pred = model.predict(features_convolution_test).argmax(axis = 1)\n",
        "y_true = labels_matrix_test.argmax(axis = 1)\n",
        "cm = confusion_matrix(y_true,y_pred)\n",
        "plot_confusion_matrix(cm, genre)"
      ],
      "execution_count": 20,
      "outputs": [
        {
          "output_type": "stream",
          "text": [
            "32/32 [==============================] - 9s 271ms/step - loss: 0.4810 - accuracy: 0.8639\n"
          ],
          "name": "stdout"
        },
        {
          "output_type": "display_data",
          "data": {
            "image/png": "[encoded data removed]",
            "text/plain": [
              "<Figure size 576x432 with 2 Axes>"
            ]
          },
          "metadata": {
            "tags": [],
            "needs_background": "light"
          }
        }
      ]
    },
    {
      "cell_type": "code",
      "metadata": {
        "colab": {
          "base_uri": "https://localhost:8080/"
        },
        "id": "_PhHIj72o40T",
        "outputId": "0a5aa5c7-b937-4ae3-f4cd-228409764382"
      },
      "source": [
        "model.save('END2END-GenreModel')"
      ],
      "execution_count": 21,
      "outputs": [
        {
          "output_type": "stream",
          "text": [
            "WARNING:absl:Found untraced functions such as gru_cell_1_layer_call_and_return_conditional_losses, gru_cell_1_layer_call_fn, gru_cell_2_layer_call_and_return_conditional_losses, gru_cell_2_layer_call_fn, gru_cell_1_layer_call_fn while saving (showing 5 of 10). These functions will not be directly callable after loading.\n",
            "WARNING:absl:Found untraced functions such as gru_cell_1_layer_call_and_return_conditional_losses, gru_cell_1_layer_call_fn, gru_cell_2_layer_call_and_return_conditional_losses, gru_cell_2_layer_call_fn, gru_cell_1_layer_call_fn while saving (showing 5 of 10). These functions will not be directly callable after loading.\n"
          ],
          "name": "stderr"
        },
        {
          "output_type": "stream",
          "text": [
            "INFO:tensorflow:Assets written to: END2END-GenreModel/assets\n"
          ],
          "name": "stdout"
        },
        {
          "output_type": "stream",
          "text": [
            "INFO:tensorflow:Assets written to: END2END-GenreModel/assets\n"
          ],
          "name": "stderr"
        }
      ]
    }
  ]
}